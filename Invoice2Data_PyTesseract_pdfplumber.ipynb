{
  "nbformat": 4,
  "nbformat_minor": 0,
  "metadata": {
    "colab": {
      "provenance": []
    },
    "kernelspec": {
      "name": "python3",
      "display_name": "Python 3"
    },
    "language_info": {
      "name": "python"
    }
  },
  "cells": [
    {
      "cell_type": "code",
      "source": [
        "from google.colab import drive\n",
        "drive.mount('/content/drive')"
      ],
      "metadata": {
        "colab": {
          "base_uri": "https://localhost:8080/"
        },
        "id": "oNHT2Jaoe5_G",
        "outputId": "9e903f0a-1627-4fd0-d562-ae7de11d5882"
      },
      "execution_count": null,
      "outputs": [
        {
          "output_type": "stream",
          "name": "stdout",
          "text": [
            "Mounted at /content/drive\n"
          ]
        }
      ]
    },
    {
      "cell_type": "code",
      "source": [
        "pip install PyPDF2 pdfplumber pytesseract opencv-python pdf2image"
      ],
      "metadata": {
        "colab": {
          "base_uri": "https://localhost:8080/"
        },
        "id": "iYE96fjTeEbf",
        "outputId": "0853a673-a6d3-45be-d9e9-2d2fbd084457"
      },
      "execution_count": null,
      "outputs": [
        {
          "output_type": "stream",
          "name": "stdout",
          "text": [
            "Requirement already satisfied: PyPDF2 in /usr/local/lib/python3.10/dist-packages (3.0.1)\n",
            "Requirement already satisfied: pdfplumber in /usr/local/lib/python3.10/dist-packages (0.11.4)\n",
            "Requirement already satisfied: pytesseract in /usr/local/lib/python3.10/dist-packages (0.3.13)\n",
            "Requirement already satisfied: opencv-python in /usr/local/lib/python3.10/dist-packages (4.10.0.84)\n",
            "Requirement already satisfied: pdf2image in /usr/local/lib/python3.10/dist-packages (1.17.0)\n",
            "Requirement already satisfied: pdfminer.six==20231228 in /usr/local/lib/python3.10/dist-packages (from pdfplumber) (20231228)\n",
            "Requirement already satisfied: Pillow>=9.1 in /usr/local/lib/python3.10/dist-packages (from pdfplumber) (10.4.0)\n",
            "Requirement already satisfied: pypdfium2>=4.18.0 in /usr/local/lib/python3.10/dist-packages (from pdfplumber) (4.30.0)\n",
            "Requirement already satisfied: charset-normalizer>=2.0.0 in /usr/local/lib/python3.10/dist-packages (from pdfminer.six==20231228->pdfplumber) (3.4.0)\n",
            "Requirement already satisfied: cryptography>=36.0.0 in /usr/local/lib/python3.10/dist-packages (from pdfminer.six==20231228->pdfplumber) (43.0.1)\n",
            "Requirement already satisfied: packaging>=21.3 in /usr/local/lib/python3.10/dist-packages (from pytesseract) (24.1)\n",
            "Requirement already satisfied: numpy>=1.21.2 in /usr/local/lib/python3.10/dist-packages (from opencv-python) (1.26.4)\n",
            "Requirement already satisfied: cffi>=1.12 in /usr/local/lib/python3.10/dist-packages (from cryptography>=36.0.0->pdfminer.six==20231228->pdfplumber) (1.17.1)\n",
            "Requirement already satisfied: pycparser in /usr/local/lib/python3.10/dist-packages (from cffi>=1.12->cryptography>=36.0.0->pdfminer.six==20231228->pdfplumber) (2.22)\n"
          ]
        }
      ]
    },
    {
      "cell_type": "code",
      "execution_count": null,
      "metadata": {
        "id": "nm3FTDT3dtww"
      },
      "outputs": [],
      "source": [
        "import os\n",
        "import pandas as pd\n",
        "import re"
      ]
    },
    {
      "cell_type": "code",
      "source": [
        "import pdfplumber\n",
        "import re\n",
        "from pdf2image import convert_from_path\n",
        "import pytesseract"
      ],
      "metadata": {
        "id": "bzTXxB4md-A5"
      },
      "execution_count": null,
      "outputs": []
    },
    {
      "cell_type": "code",
      "source": [
        "def extract_text_from_pdf(file_path):\n",
        "    text = \"\"\n",
        "    with pdfplumber.open(file_path) as pdf:\n",
        "        for page in pdf.pages:\n",
        "            text += page.extract_text() + \"\\n\" if page.extract_text() else \"\"\n",
        "    return text"
      ],
      "metadata": {
        "id": "JjfZVPx_dx5O"
      },
      "execution_count": null,
      "outputs": []
    },
    {
      "cell_type": "code",
      "source": [
        "def extract_text_from_scanned_pdf(file_path):\n",
        "    images = convert_from_path(file_path)\n",
        "    text = \"\"\n",
        "    for image in images:\n",
        "        text += pytesseract.image_to_string(image) + \"\\n\"\n",
        "    return text"
      ],
      "metadata": {
        "id": "duo2WoXUdx2k"
      },
      "execution_count": null,
      "outputs": []
    },
    {
      "cell_type": "code",
      "source": [
        "def extract_text(file_path):\n",
        "    with open(file_path, \"rb\") as f:\n",
        "        try:\n",
        "            if pdfplumber.open(f).pages[0].extract_text():\n",
        "                return extract_text_from_pdf(file_path)\n",
        "            else:\n",
        "                return extract_text_from_scanned_pdf(file_path)\n",
        "        except:\n",
        "            return extract_text_from_scanned_pdf(file_path)"
      ],
      "metadata": {
        "id": "pIMcgtIfdx0G"
      },
      "execution_count": null,
      "outputs": []
    },
    {
      "cell_type": "code",
      "source": [
        "def clean_text(text):\n",
        "    text = re.sub(r'\\s+', ' ', text)\n",
        "    return text.strip()"
      ],
      "metadata": {
        "id": "V5vAudHCgmkq"
      },
      "execution_count": null,
      "outputs": []
    },
    {
      "cell_type": "code",
      "source": [
        "def extract_invoice_data(text):\n",
        "    invoice_data = {}\n",
        "\n",
        "    invoice_data['invoice_number'] = re.search(r'Invoice #:\\s*([A-Z0-9\\-]+)', text)\n",
        "    invoice_data['invoice_date'] = re.search(r'Invoice Date:\\s*([\\d\\s\\w]+)', text)\n",
        "    invoice_data['due_date'] = re.search(r'Due Date:\\s*([\\d\\s\\w]+)', text)\n",
        "    invoice_data['customer_name'] = re.search(r'Customer Details:\\s*([\\w\\s]+)', text)\n",
        "    invoice_data['taxable_amount'] = re.search(r'Taxable Amount ₹([\\d,.]+)', text)\n",
        "    invoice_data['cgst'] = re.search(r'CGST\\s*\\d+(\\.\\d+)?%\\s*₹([\\d,.]+)', text)\n",
        "    invoice_data['sgst'] = re.search(r'SGST\\s*\\d+(\\.\\d+)?%\\s*₹([\\d,.]+)', text)\n",
        "    invoice_data['total_amount'] = re.search(r'Total ₹([\\d,.]+)', text)\n",
        "    invoice_data['total_discount'] = re.search(r'Total Discount ₹([\\d,.]+)', text)\n",
        "\n",
        "    return {k: v.group(1) if v else None for k, v in invoice_data.items()}"
      ],
      "metadata": {
        "id": "sP4ejkgWdxxm"
      },
      "execution_count": null,
      "outputs": []
    },
    {
      "cell_type": "code",
      "source": [
        "def process_invoice(file_path):\n",
        "    extracted_text = extract_text(file_path)\n",
        "    cleaned_text = clean_text(extracted_text)\n",
        "    print(cleaned_text)\n",
        "    invoice_data = extract_invoice_data(cleaned_text)\n",
        "    return invoice_data"
      ],
      "metadata": {
        "id": "KacR0NVOehQL"
      },
      "execution_count": null,
      "outputs": []
    },
    {
      "cell_type": "code",
      "source": [
        "folder_path = '/content/drive/MyDrive/Jan to Mar'\n",
        "all_invoices_data = []"
      ],
      "metadata": {
        "id": "KsiPkGT0eoxI"
      },
      "execution_count": null,
      "outputs": []
    },
    {
      "cell_type": "code",
      "source": [
        "for filename in os.listdir(folder_path):\n",
        "    if filename.endswith('.pdf'):\n",
        "        file_path = os.path.join(folder_path, filename)\n",
        "        data = process_invoice(file_path)\n",
        "        all_invoices_data.append(data)"
      ],
      "metadata": {
        "colab": {
          "base_uri": "https://localhost:8080/"
        },
        "id": "CrLesUkuesHm",
        "outputId": "d72e8b27-d599-40cd-faa0-62ee38ba79f7"
      },
      "execution_count": null,
      "outputs": [
        {
          "output_type": "stream",
          "name": "stdout",
          "text": [
            "TAX INVOICE ORIGINAL FOR RECIPIENT UNCUE DERMACARE PRIVATE LIMITED GSTIN 23AADCU2395N1ZY C/o KARUNA GUPTA KURELE, 1st Floor S.P Bungalow Ke Pichhe, Shoagpur Shahdol, Shahdol Shahdol, MADHYA PRADESH, 484001 Mobile +91 8585960963 Email ruhi@dermaq.in Invoice #: INV-146 Invoice Date: 29 Mar 2024 Due Date: 29 Mar 2024 Customer Details: Abhikaran Jalonha Place of Supply: 23-MADHYA PRADESH # Item Rate / Item Qty Taxable Value Tax Amount Amount Cetaphil DAM Advance Ultra-Hydrati- 395.08 1 1 TUB 395.08 71.12 (18%) 466.20 ng Lotion Face - 100 gm 438.98 (-10%) Ahaglow Advanced Skin Rejuvenating 556.34 2 1 PAC 556.34 100.14 (18%) 656.48 Face Wash Gel 632.20 (-12%) 206.43 3 Acutret 20 mg - 10 capsules 6 STRP 1,238.57 148.63 (12%) 1,387.20 258.04 (-20%) 695.80 4 Faireye under eye cream 1 695.80 125.24 (18%) 821.04 790.68 (-12%) 462.37 5 Biluma cream - 15 gm 1 PAC 462.37 83.23 (18%) 545.60 525.42 (-12%) Taxable Amount ₹3,348.16 CGST 6.0% ₹74.31 SGST 6.0% ₹74.31 CGST 9.0% ₹189.86 SGST 9.0% ₹189.86 Round Off 0.48 Total ₹3,877.00 Total Discount ₹674.48 Total Items / Qty : 5 / 10.000 Total amount (in words): INR Three Thousand, Eight Hundred And Seventy-Seven Rupees Only. Amount Paid Pay using UPI: Bank Details: For UNCUE DERMACARE PRIVATE LIMITED Bank: Kotak Mahindra Bank Account #: 1146860541 IFSC Code: kkbk0000725 Branch: PUNE - CHINCHWAD Authorized Signatory UnCue Dermacare Pvt Ltd Powered By Swipe | Simple Invoicing, Billing and Payments | Visit getswipe.in Page 1 / 1 This is a computer generated document and requires no signature.\n",
            "TAX INVOICE ORIGINAL FOR RECIPIENT UNCUE DERMACARE PRIVATE LIMITED GSTIN 23AADCU2395N1ZY C/o KARUNA GUPTA KURELE, 1st Floor S.P Bungalow Ke Pichhe, Shoagpur Shahdol, Shahdol Shahdol, MADHYA PRADESH, 484001 Mobile +91 8585960963 Email ruhi@dermaq.in Invoice #: INV-145 Invoice Date: 28 Mar 2024 Due Date: 28 Mar 2024 Customer Details: Indraja Mohite Place of Supply: 23-MADHYA PRADESH # Item Rate / Item Qty Taxable Value Tax Amount Amount 206.43 1 Acutret 20 mg - 10 capsules 9 STRP 1,857.86 222.94 (12%) 2,080.80 258.04 (-20%) 2 due last bill 60.00 1 60.00 0.00 (0%) 60.00 Taxable Amount ₹1,917.86 CGST 6.0% ₹111.47 SGST 6.0% ₹111.47 Round Off 0.20 Total ₹2,141.00 Total Discount ₹520.20 Total Items / Qty : 2 / 10.000 Total amount (in words): INR Two Thousand, One Hundred And Forty-One Rupees Only. Amount Paid Pay using UPI: Bank Details: For UNCUE DERMACARE PRIVATE LIMITED Bank: Kotak Mahindra Bank Account #: 1146860541 IFSC Code: kkbk0000725 Branch: PUNE - CHINCHWAD Authorized Signatory UnCue Dermacare Pvt Ltd Powered By Swipe | Simple Invoicing, Billing and Payments | Visit getswipe.in Page 1 / 1 This is a computer generated document and requires no signature.\n",
            "TAX INVOICE ORIGINAL FOR RECIPIENT UNCUE DERMACARE PRIVATE LIMITED GSTIN 23AADCU2395N1ZY C/o KARUNA GUPTA KURELE, 1st Floor S.P Bungalow Ke Pichhe, Shoagpur Shahdol, Shahdol Shahdol, MADHYA PRADESH, 484001 Mobile +91 8585960963 Email ruhi@dermaq.in Invoice #: INV-140 Invoice Date: 06 Mar 2024 Due Date: 06 Mar 2024 Customer Details: Ankit Place of Supply: 23-MADHYA PRADESH # Item Rate / Item Qty Taxable Value Tax Amount Amount 477.97 1 Keraglo Men Tablet - 30 tablets 1 BTL 477.97 86.03 (18%) 564.00 597.46 (-20%) 521.39 2 Kera-FM 5% Topical Solution 1 BTL 521.39 62.57 (12%) 583.96 651.74 (-20%) Taxable Amount ₹999.36 CGST 6.0% ₹31.28 SGST 6.0% ₹31.28 CGST 9.0% ₹43.02 SGST 9.0% ₹43.02 Round Off 0.04 Total ₹1,148.00 Total Discount ₹286.99 Total Items / Qty : 2 / 2.000 Total amount (in words): INR One Thousand, One Hundred And Forty-Eight Rupees Only. Amount Paid Pay using UPI: Bank Details: For UNCUE DERMACARE PRIVATE LIMITED Bank: Kotak Mahindra Bank Account #: 1146860541 IFSC Code: kkbk0000725 Branch: PUNE - CHINCHWAD Authorized Signatory UnCue Dermacare Pvt Ltd Powered By Swipe | Simple Invoicing, Billing and Payments | Visit getswipe.in Page 1 / 1 This is a computer generated document and requires no signature.\n",
            "TAX INVOICE ORIGINAL FOR RECIPIENT UNCUE DERMACARE PRIVATE LIMITED GSTIN 23AADCU2395N1ZY C/o KARUNA GUPTA KURELE, 1st Floor S.P Bungalow Ke Pichhe, Shoagpur Shahdol, Shahdol Shahdol, MADHYA PRADESH, 484001 Mobile +91 8585960963 Email ruhi@dermaq.in Invoice #: INV-136 Invoice Date: 15 Feb 2024 Due Date: 04 Mar 2024 Customer Details: Rishabh Ramola Ph: 7023511429 Place of Supply: 23-MADHYA PRADESH # Item Rate / Item Qty Taxable Value Tax Amount Amount 480.68 1 Solasafe sunscreen gel spf 50 2 961.36 173.04 (18%) 1,134.40 600.85 (-20%) Taxable Amount ₹961.36 CGST 9.0% ₹86.52 SGST 9.0% ₹86.52 Round Off -0.40 Total ₹1,134.00 Total Discount ₹283.60 Total Items / Qty : 1 / 2.000 Total amount (in words): INR One Thousand, One Hundred And Thirty-Four Rupees Only. Amount Paid Pay using UPI: Bank Details: For UNCUE DERMACARE PRIVATE LIMITED Bank: Kotak Mahindra Bank Account #: 1146860541 IFSC Code: kkbk0000725 Branch: PUNE - CHINCHWAD Authorized Signatory UnCue Dermacare Pvt Ltd Powered By Swipe | Simple Invoicing, Billing and Payments | Visit getswipe.in Page 1 / 1 This is a computer generated document and requires no signature.\n",
            "TAX INVOICE ORIGINAL FOR RECIPIENT UNCUE DERMACARE PRIVATE LIMITED GSTIN 23AADCU2395N1ZY C/o KARUNA GUPTA KURELE, 1st Floor S.P Bungalow Ke Pichhe, Shoagpur Shahdol, Shahdol Shahdol, MADHYA PRADESH, 484001 Mobile +91 8585960963 Email ruhi@dermaq.in Invoice #: INV-143 Invoice Date: 28 Mar 2024 Due Date: 28 Mar 2024 Customer Details: Prashant Place of Supply: 23-MADHYA PRADESH # Item Rate / Item Qty Taxable Value Tax Amount Amount 1 Arachitol 317.86 7 2,225.00 267.00 (12%) 2,492.00 2,169.49 2 PRP 2,542.37 2 4,338.98 781.02 (18%) 5,120.00 (-14.67%) Taxable Amount ₹6,563.98 CGST 6.0% ₹133.50 SGST 6.0% ₹133.50 CGST 9.0% ₹390.51 SGST 9.0% ₹390.51 Total ₹7,612.00 Total Discount ₹880.00 Total Items / Qty : 2 / 9.000 Total amount (in words): INR Seven Thousand, Six Hundred And Twelve Rupees Only. Amount Payable: ₹152.00 Amount Paid: ₹7,460.00 Pay using UPI: Bank Details: For UNCUE DERMACARE PRIVATE LIMITED Bank: Kotak Mahindra Bank Account #: 1146860541 IFSC Code: kkbk0000725 Branch: PUNE - CHINCHWAD Authorized Signatory UnCue Dermacare Pvt Ltd Powered By Swipe | Simple Invoicing, Billing and Payments | Visit getswipe.in Page 1 / 1 This is a computer generated document and requires no signature.\n",
            "TAX INVOICE ORIGINAL FOR RECIPIENT UNCUE DERMACARE PRIVATE LIMITED GSTIN 23AADCU2395N1ZY C/o KARUNA GUPTA KURELE, 1st Floor S.P Bungalow Ke Pichhe, Shoagpur Shahdol, Shahdol Shahdol, MADHYA PRADESH, 484001 Mobile +91 8585960963 Email ruhi@dermaq.in Invoice #: INV-144 Invoice Date: 28 Mar 2024 Due Date: 28 Mar 2024 Customer Details: Atia Latif Place of Supply: 23-MADHYA PRADESH # Item Rate / Item Qty Taxable Value Tax Amount Amount 2,363.64 1 Bioderma Pigmentbio C-concentrate 1 PCS 2,363.64 425.46 (18%) 2,789.10 2,626.27 (-10%) 299.58 2 Arachitol Nano (60k) 4*5ml 2 BTL 599.15 71.90 (12%) 671.05 340.43 (-12%) 450.64 3 Solasafe sunscreen gel spf 50 3 1,351.91 243.34 (18%) 1,595.25 600.85 (-25%) 4 Lab test - full body checkup 2,000.00 3 6,000.00 0.00 (0%) 6,000.00 5 GFC PRP 11,600.00 1 11,600.00 1,392.00 (12%) 12,992.00 Taxable Amount ₹21,914.71 CGST 6.0% ₹731.95 SGST 6.0% ₹731.95 CGST 9.0% ₹334.40 SGST 9.0% ₹334.40 Round Off -0.40 Total ₹24,047.00 Total Discount ₹933.16 Total Items / Qty : 5 / 10.000 Total amount (in words): INR Twenty-Four Thousand And Forty-Seven Rupees Only. Amount Paid Pay using UPI: Bank Details: For UNCUE DERMACARE PRIVATE LIMITED Bank: Kotak Mahindra Bank Account #: 1146860541 IFSC Code: kkbk0000725 Branch: PUNE - CHINCHWAD Authorized Signatory UnCue Dermacare Pvt Ltd Powered By Swipe | Simple Invoicing, Billing and Payments | Visit getswipe.in Page 1 / 1 This is a computer generated document and requires no signature.\n",
            "TAX INVOICE ORIGINAL FOR RECIPIENT UNCUE DERMACARE PRIVATE LIMITED GSTIN 23AADCU2395N1ZY C/o KARUNA GUPTA KURELE, 1st Floor S.P Bungalow Ke Pichhe, Shoagpur Shahdol, Shahdol Shahdol, MADHYA PRADESH, 484001 Mobile +91 8585960963 Email ruhi@dermaq.in Invoice #: INV-141 Invoice Date: 06 Mar 2024 Due Date: 06 Mar 2024 Customer Details: Kasturi Kalwar Place of Supply: 23-MADHYA PRADESH # Item Rate / Item Qty Taxable Value Tax Amount Amount 620.34 1 Acne-UV Gel - spf 50 (50 gm) 1 PAC 620.34 111.66 (18%) 732.00 775.42 (-20%) Bioderma Sebium Hydra Moisturiser - 865.68 2 1 865.68 155.82 (18%) 1,021.50 40 ml 961.86 (-10%) Taxable Amount ₹1,486.02 CGST 9.0% ₹133.74 SGST 9.0% ₹133.74 Round Off 0.50 Total ₹1,754.00 Total Discount ₹296.50 Total Items / Qty : 2 / 2.000 Total amount (in words): INR One Thousand, Seven Hundred And Fifty-Four Rupees Only. Amount Paid Pay using UPI: Bank Details: For UNCUE DERMACARE PRIVATE LIMITED Bank: Kotak Mahindra Bank Account #: 1146860541 IFSC Code: kkbk0000725 Branch: PUNE - CHINCHWAD Authorized Signatory UnCue Dermacare Pvt Ltd Powered By Swipe | Simple Invoicing, Billing and Payments | Visit getswipe.in Page 1 / 1 This is a computer generated document and requires no signature.\n",
            "TAX INVOICE ORIGINAL FOR RECIPIENT UNCUE DERMACARE PRIVATE LIMITED GSTIN 23AADCU2395N1ZY C/o KARUNA GUPTA KURELE, 1st Floor S.P Bungalow Ke Pichhe, Shoagpur Shahdol, Shahdol Shahdol, MADHYA PRADESH, 484001 Mobile +91 8585960963 Email ruhi@dermaq.in Invoice #: INV-142 Invoice Date: 07 Mar 2024 Due Date: 07 Mar 2024 Customer Details: Urmila Jangam Ph: 9552724364 Place of Supply: 23-MADHYA PRADESH # Item Rate / Item Qty Taxable Value Tax Amount Amount 874.58 1 Kera XL New Hair Growth Serum 1 BTL 874.58 157.42 (18%) 1,032.00 1,093.22 (-20%) Taxable Amount ₹874.58 CGST 9.0% ₹78.71 SGST 9.0% ₹78.71 Total ₹1,032.00 Total Discount ₹258.00 Total Items / Qty : 1 / 1.000 Total amount (in words): INR One Thousand And Thirty-Two Rupees Only. Amount Paid Pay using UPI: Bank Details: For UNCUE DERMACARE PRIVATE LIMITED Bank: Kotak Mahindra Bank Account #: 1146860541 IFSC Code: kkbk0000725 Branch: PUNE - CHINCHWAD Authorized Signatory UnCue Dermacare Pvt Ltd Powered By Swipe | Simple Invoicing, Billing and Payments | Visit getswipe.in Page 1 / 1 This is a computer generated document and requires no signature.\n",
            "TAX INVOICE ORIGINAL FOR RECIPIENT UNCUE DERMACARE PRIVATE LIMITED GSTIN 23AADCU2395N1ZY C/o KARUNA GUPTA KURELE, 1st Floor S.P Bungalow Ke Pichhe, Shoagpur Shahdol, Shahdol Shahdol, MADHYA PRADESH, 484001 Mobile +91 8585960963 Email ruhi@dermaq.in Invoice #: INV-138 Invoice Date: 06 Mar 2024 Due Date: 06 Mar 2024 Customer Details: Shipping Address: Agrani Kandele vadandana beauty parlour Ph: 8120482988 Murawara Katni, MADHYA PRADESH, 483501 Place of Supply: 23-MADHYA PRADESH # Item Rate / Item Qty Taxable Value Tax Amount Amount Cetaphil Gentle Cleansing Lotion - Oily 415.68 1 1 BTL 415.68 74.82 (18%) 490.50 Skin 125 ml 461.86 (-10%) 480.68 2 Solasafe sunscreen gel spf 50 1 480.68 86.52 (18%) 567.20 600.85 (-20%) IPCA Acne OC Moisturizer Cream - 75 378.98 3 1 378.98 68.22 (18%) 447.20 gm 473.73 (-20%) Taxable Amount ₹1,275.34 CGST 9.0% ₹114.78 SGST 9.0% ₹114.78 Round Off 0.10 Total ₹1,505.00 Total Discount ₹308.10 Total Items / Qty : 3 / 3.000 Total amount (in words): INR One Thousand, Five Hundred And Five Rupees Only. Amount Paid Pay using UPI: Bank Details: For UNCUE DERMACARE PRIVATE LIMITED Bank: Kotak Mahindra Bank Account #: 1146860541 IFSC Code: kkbk0000725 Branch: PUNE - CHINCHWAD Authorized Signatory UnCue Dermacare Pvt Ltd Powered By Swipe | Simple Invoicing, Billing and Payments | Visit getswipe.in Page 1 / 1 This is a computer generated document and requires no signature.\n",
            "TAX INVOICE ORIGINAL FOR RECIPIENT UNCUE DERMACARE PRIVATE LIMITED GSTIN 23AADCU2395N1ZY C/o KARUNA GUPTA KURELE, 1st Floor S.P Bungalow Ke Pichhe, Shoagpur Shahdol, Shahdol Shahdol, MADHYA PRADESH, 484001 Mobile +91 8585960963 Email ruhi@dermaq.in Invoice #: INV-135 Invoice Date: 01 Mar 2024 Due Date: 01 Mar 2024 Customer Details: Mohith Saragur Place of Supply: 23-MADHYA PRADESH # Item Rate / Item Qty Taxable Value Tax Amount Amount 22.58 1 Tab flucon 400mg 3 STRP 67.75 12.19 (18%) 79.94 28.23 (-20%) 369.91 2 Lupizol ZS Shampoo 100 ml 1 BTL 369.91 44.39 (12%) 414.30 420.36 (-12%) 253.56 3 Anaboom AD Lotion - 50 ml 1 BTL 253.56 45.64 (18%) 299.20 288.14 (-12%) Taxable Amount ₹691.22 CGST 6.0% ₹22.19 SGST 6.0% ₹22.19 CGST 9.0% ₹28.92 SGST 9.0% ₹28.92 Round Off -0.45 Total ₹793.00 Total Discount ₹117.28 Total Items / Qty : 3 / 5.000 Total amount (in words): INR Seven Hundred And Ninety-Three Rupees Only. Amount Paid Pay using UPI: Bank Details: For UNCUE DERMACARE PRIVATE LIMITED Bank: Kotak Mahindra Bank Account #: 1146860541 IFSC Code: kkbk0000725 Branch: PUNE - CHINCHWAD Authorized Signatory UnCue Dermacare Pvt Ltd Powered By Swipe | Simple Invoicing, Billing and Payments | Visit getswipe.in Page 1 / 1 This is a computer generated document and requires no signature.\n",
            "TAX INVOICE ORIGINAL FOR RECIPIENT UNCUE DERMACARE PRIVATE LIMITED GSTIN 23AADCU2395N1ZY C/o KARUNA GUPTA KURELE, 1st Floor S.P Bungalow Ke Pichhe, Shoagpur Shahdol, Shahdol Shahdol, MADHYA PRADESH, 484001 Mobile +91 8585960963 Email ruhi@dermaq.in Invoice #: INV-133 Invoice Date: 01 Mar 2024 Due Date: 01 Mar 2024 Customer Details: Sheetal Kapur Place of Supply: 23-MADHYA PRADESH # Item Rate / Item Qty Taxable Value Tax Amount Amount 785.17 1 Glogeous facewash 1 BTL 785.17 141.33 (18%) 926.50 923.73 (-15%) 749.95 2 Bristaa Intense Cream 1 BTL 749.95 134.99 (18%) 884.94 872.03 (-14%) 233.39 3 Anaboom AD Lotion - 50 ml 1 BTL 233.39 42.01 (18%) 275.40 274.58 (-15%) 290.10 4 Anaboom AD Shampoo 1 BTL 290.10 52.22 (18%) 342.32 329.66 (-12%) 81.18 5 Acutret 5 mg 3 STRP 243.54 29.22 (12%) 272.76 101.47 (-20%) Taxable Amount ₹2,302.15 CGST 6.0% ₹14.61 SGST 6.0% ₹14.61 CGST 9.0% ₹185.27 SGST 9.0% ₹185.27 Round Off 0.08 Total ₹2,702.00 Total Discount ₹471.03 Total Items / Qty : 5 / 7.000 Total amount (in words): INR Two Thousand, Seven Hundred And Two Rupees Only. Amount Paid Pay using UPI: Bank Details: For UNCUE DERMACARE PRIVATE LIMITED Bank: Kotak Mahindra Bank Account #: 1146860541 IFSC Code: kkbk0000725 Branch: PUNE - CHINCHWAD Authorized Signatory UnCue Dermacare Pvt Ltd Powered By Swipe | Simple Invoicing, Billing and Payments | Visit getswipe.in Page 1 / 1 This is a computer generated document and requires no signature.\n",
            "TAX INVOICE ORIGINAL FOR RECIPIENT UNCUE DERMACARE PRIVATE LIMITED GSTIN 23AADCU2395N1ZY C/o KARUNA GUPTA KURELE, 1st Floor S.P Bungalow Ke Pichhe, Shoagpur Shahdol, Shahdol Shahdol, MADHYA PRADESH, 484001 Mobile +91 8585960963 Email ruhi@dermaq.in Invoice #: INV-124 Invoice Date: 10 Feb 2024 Due Date: 10 Feb 2024 Customer Details: Ankita Sattva Place of Supply: 23-MADHYA PRADESH # Item Rate / Item Qty Taxable Value Tax Amount Amount 1 Arachitol Nano (60k) 4*5ml 340.43 3 BTL 1,021.29 122.55 (12%) 1,143.84 2 Neurobion Forte - 30 tablets 34.75 3 STRP 104.24 18.76 (18%) 123.00 Taxable Amount ₹1,125.52 CGST 6.0% ₹61.28 SGST 6.0% ₹61.28 CGST 9.0% ₹9.38 SGST 9.0% ₹9.38 Discount - ₹ 152.02 Round Off 0.18 Total ₹1,115.00 Total Discount ₹152.02 Total Items / Qty : 2 / 6.000 Total amount (in words): INR One Thousand, One Hundred And Fifteen Rupees Only. Amount Paid Pay using UPI: Bank Details: For UNCUE DERMACARE PRIVATE LIMITED Bank: Kotak Mahindra Bank Account #: 1146860541 IFSC Code: kkbk0000725 Branch: PUNE - CHINCHWAD Authorized Signatory UnCue Dermacare Pvt Ltd Powered By Swipe | Simple Invoicing, Billing and Payments | Visit getswipe.in Page 1 / 1 This is a computer generated document and requires no signature.\n",
            "TAX INVOICE ORIGINAL FOR RECIPIENT UNCUE DERMACARE PRIVATE LIMITED GSTIN 23AADCU2395N1ZY C/o KARUNA GUPTA KURELE, 1st Floor S.P Bungalow Ke Pichhe, Shoagpur Shahdol, Shahdol Shahdol, MADHYA PRADESH, 484001 Mobile +91 8585960963 Email ruhi@dermaq.in Invoice #: INV-123 Invoice Date: 08 Feb 2024 Due Date: 08 Feb 2024 Customer Details: Asit Place of Supply: 23-MADHYA PRADESH # Item Rate / Item Qty Taxable Value Tax Amount Amount 299.58 1 Arachitol Nano (60k) 4*5ml 3 BTL 898.73 107.85 (12%) 1,006.58 340.43 (-12%) 30.58 2 Neurobion Forte - 30 tablets 3 STRP 91.73 16.51 (18%) 108.24 34.75 (-12%) Taxable Amount ₹990.46 CGST 6.0% ₹53.92 SGST 6.0% ₹53.92 CGST 9.0% ₹8.26 SGST 9.0% ₹8.26 Round Off 0.18 Total ₹1,115.00 Total Discount ₹152.02 Total Items / Qty : 2 / 6.000 Total amount (in words): INR One Thousand, One Hundred And Fifteen Rupees Only. Amount Paid Pay using UPI: Bank Details: For UNCUE DERMACARE PRIVATE LIMITED Bank: Kotak Mahindra Bank Account #: 1146860541 IFSC Code: kkbk0000725 Branch: PUNE - CHINCHWAD Authorized Signatory UnCue Dermacare Pvt Ltd Powered By Swipe | Simple Invoicing, Billing and Payments | Visit getswipe.in Page 1 / 1 This is a computer generated document and requires no signature.\n",
            "TAX INVOICE ORIGINAL FOR RECIPIENT UNCUE DERMACARE PRIVATE LIMITED GSTIN 23AADCU2395N1ZY C/o KARUNA GUPTA KURELE, 1st Floor S.P Bungalow Ke Pichhe, Shoagpur Shahdol, Shahdol Shahdol, MADHYA PRADESH, 484001 Mobile +91 8585960963 Email ruhi@dermaq.in Invoice #: INV-121 Invoice Date: 29 Jan 2024 Due Date: 29 Jan 2024 Customer Details: Billing Address: Jitesh Soni Wakad Ph: 9351333360 Pune, MAHARASHTRA, 411057 Place of Supply: 27-MAHARASHTRA # Item Rate / Item Qty Taxable Value Tax Amount Amount 581.57 1 Acne-UV Gel - spf 50 (50 gm) 1 PAC 581.57 104.68 (18%) 686.25 775.42 (-25%) 289.36 2 Arachitol Nano (60k) 4*5ml 1 BTL 289.36 34.72 (12%) 324.09 340.43 (-15%) Taxable Amount ₹870.93 IGST 12.0% ₹34.72 IGST 18.0% ₹104.68 Round Off -0.34 Total ₹1,010.00 Total Discount ₹285.94 Total Items / Qty : 2 / 2.000 Total amount (in words): INR One Thousand And Ten Rupees Only. Amount Paid Pay using UPI: Bank Details: For UNCUE DERMACARE PRIVATE LIMITED Bank: Kotak Mahindra Bank Account #: 1146860541 IFSC Code: kkbk0000725 Branch: PUNE - CHINCHWAD Authorized Signatory UnCue Dermacare Pvt Ltd Powered By Swipe | Simple Invoicing, Billing and Payments | Visit getswipe.in Page 1 / 1 This is a computer generated document and requires no signature.\n",
            "TAX INVOICE ORIGINAL FOR RECIPIENT UNCUE DERMACARE PRIVATE LIMITED GSTIN 23AADCU2395N1ZY C/o KARUNA GUPTA KURELE, 1st Floor S.P Bungalow Ke Pichhe, Shoagpur Shahdol, Shahdol Shahdol, MADHYA PRADESH, 484001 Mobile +91 8585960963 Email ruhi@dermaq.in Invoice #: INV-128 Invoice Date: 23 Feb 2024 Due Date: 23 Feb 2024 Customer Details: Atia Latif Place of Supply: 23-MADHYA PRADESH # Item Rate / Item Qty Taxable Value Tax Amount Amount 2,076.27 1 Hydrafacial 2,542.37 1 2,076.27 373.73 (18%) 2,450.00 (-18.33%) Taxable Amount ₹2,076.27 CGST 9.0% ₹186.86 SGST 9.0% ₹186.86 Total ₹2,450.00 Total Discount ₹550.00 Total Items / Qty : 1 / 1.000 Total amount (in words): INR Two Thousand, Four Hundred And Fifty Rupees Only. Amount Paid Pay using UPI: Bank Details: For UNCUE DERMACARE PRIVATE LIMITED Bank: Kotak Mahindra Bank Account #: 1146860541 IFSC Code: kkbk0000725 Branch: PUNE - CHINCHWAD Authorized Signatory UnCue Dermacare Pvt Ltd Powered By Swipe | Simple Invoicing, Billing and Payments | Visit getswipe.in Page 1 / 1 This is a computer generated document and requires no signature.\n",
            "TAX INVOICE ORIGINAL FOR RECIPIENT UNCUE DERMACARE PRIVATE LIMITED GSTIN 23AADCU2395N1ZY C/o KARUNA GUPTA KURELE, 1st Floor S.P Bungalow Ke Pichhe, Shoagpur Shahdol, Shahdol Shahdol, MADHYA PRADESH, 484001 Mobile +91 8585960963 Email ruhi@dermaq.in Invoice #: INV-127 Invoice Date: 23 Feb 2024 Due Date: 23 Feb 2024 Customer Details: Avik Mallick Place of Supply: 23-MADHYA PRADESH # Item Rate / Item Qty Taxable Value Tax Amount Amount 397.50 1 Vitamin b12 test 1 397.50 0.00 (0%) 397.50 750.00 (-47%) 349.27 2 HBA1C Test 1 349.27 0.00 (0%) 349.27 659.00 (-47%) 3 Last bill pending 197.00 1 197.00 0.00 (0%) 197.00 Taxable Amount ₹943.77 Round Off 0.23 Total ₹944.00 Total Discount ₹662.23 Total Items / Qty : 3 / 3.000 Total amount (in words): INR Nine Hundred And Forty-Four Rupees Only. Amount Paid Pay using UPI: Bank Details: For UNCUE DERMACARE PRIVATE LIMITED Bank: Kotak Mahindra Bank Account #: 1146860541 IFSC Code: kkbk0000725 Branch: PUNE - CHINCHWAD Authorized Signatory UnCue Dermacare Pvt Ltd Powered By Swipe | Simple Invoicing, Billing and Payments | Visit getswipe.in Page 1 / 1 This is a computer generated document and requires no signature.\n",
            "TAX INVOICE ORIGINAL FOR RECIPIENT UNCUE DERMACARE PRIVATE LIMITED GSTIN 23AADCU2395N1ZY C/o KARUNA GUPTA KURELE, 1st Floor S.P Bungalow Ke Pichhe, Shoagpur Shahdol, Shahdol Shahdol, MADHYA PRADESH, 484001 Mobile +91 8585960963 Email ruhi@dermaq.in Invoice #: INV-134 Invoice Date: 01 Mar 2024 Due Date: 01 Mar 2024 Customer Details: Sheetal Kapur Place of Supply: 23-MADHYA PRADESH # Item Rate / Item Qty Taxable Value Tax Amount Amount 723.77 1 ATODERM Moisturiser 1 BTL 723.77 130.28 (18%) 854.05 761.86 (-5%) Taxable Amount ₹723.77 CGST 9.0% ₹65.14 SGST 9.0% ₹65.14 Round Off -0.05 Total ₹854.00 Total Discount ₹44.95 Total Items / Qty : 1 / 1.000 Total amount (in words): INR Eight Hundred And Fifty-Four Rupees Only. Amount Paid Pay using UPI: Bank Details: For UNCUE DERMACARE PRIVATE LIMITED Bank: Kotak Mahindra Bank Account #: 1146860541 IFSC Code: kkbk0000725 Branch: PUNE - CHINCHWAD Authorized Signatory UnCue Dermacare Pvt Ltd Powered By Swipe | Simple Invoicing, Billing and Payments | Visit getswipe.in Page 1 / 1 This is a computer generated document and requires no signature.\n",
            "TAX INVOICE ORIGINAL FOR RECIPIENT UNCUE DERMACARE PRIVATE LIMITED GSTIN 23AADCU2395N1ZY C/o KARUNA GUPTA KURELE, 1st Floor S.P Bungalow Ke Pichhe, Shoagpur Shahdol, Shahdol Shahdol, MADHYA PRADESH, 484001 Mobile +91 8585960963 Email ruhi@dermaq.in Invoice #: INV-129 Invoice Date: 23 Feb 2024 Due Date: 23 Feb 2024 Customer Details: Divya Suhane Ph: 6261616609 Place of Supply: 23-MADHYA PRADESH # Item Rate / Item Qty Taxable Value Tax Amount Amount 282.86 1 sotret nf 16 mg - 10 capsules 3 STRP 848.57 101.83 (12%) 950.40 321.43 (-12%) 268.47 2 Ekran Aqua Sunscreen Spf 30 1 PAC 268.47 48.33 (18%) 316.80 305.08 (-12%) Taxable Amount ₹1,117.05 CGST 6.0% ₹50.91 SGST 6.0% ₹50.91 CGST 9.0% ₹24.16 SGST 9.0% ₹24.16 Round Off -0.20 Total ₹1,267.00 Total Discount ₹172.80 Total Items / Qty : 2 / 4.000 Total amount (in words): INR One Thousand, Two Hundred And Sixty-Seven Rupees Only. Amount Paid Pay using UPI: Bank Details: For UNCUE DERMACARE PRIVATE LIMITED Bank: Kotak Mahindra Bank Account #: 1146860541 IFSC Code: kkbk0000725 Branch: PUNE - CHINCHWAD Authorized Signatory UnCue Dermacare Pvt Ltd Powered By Swipe | Simple Invoicing, Billing and Payments | Visit getswipe.in Page 1 / 1 This is a computer generated document and requires no signature.\n",
            "TAX INVOICE ORIGINAL FOR RECIPIENT UNCUE DERMACARE PRIVATE LIMITED GSTIN 23AADCU2395N1ZY C/o KARUNA GUPTA KURELE, 1st Floor S.P Bungalow Ke Pichhe, Shoagpur Shahdol, Shahdol Shahdol, MADHYA PRADESH, 484001 Mobile +91 8585960963 Email ruhi@dermaq.in Invoice #: INV-118 Invoice Date: 30 Jan 2024 Due Date: 30 Jan 2024 Customer Details: Rashu Place of Supply: 23-MADHYA PRADESH # Item Rate / Item Qty Taxable Value Tax Amount Amount 1 Vitamin b12 test 350.00 1 350.00 0.00 (0%) 350.00 Taxable Amount ₹350.00 Total ₹350.00 Total Items / Qty : 1 / 1.000 Total amount (in words): INR Three Hundred And Fifty Rupees Only. Amount Paid Pay using UPI: Bank Details: For UNCUE DERMACARE PRIVATE LIMITED Bank: Kotak Mahindra Bank Account #: 1146860541 IFSC Code: kkbk0000725 Branch: PUNE - CHINCHWAD Authorized Signatory UnCue Dermacare Pvt Ltd Powered By Swipe | Simple Invoicing, Billing and Payments | Visit getswipe.in Page 1 / 1 This is a computer generated document and requires no signature.\n",
            "TAX INVOICE ORIGINAL FOR RECIPIENT UNCUE DERMACARE PRIVATE LIMITED GSTIN 23AADCU2395N1ZY C/o KARUNA GUPTA KURELE, 1st Floor S.P Bungalow Ke Pichhe, Shoagpur Shahdol, Shahdol Shahdol, MADHYA PRADESH, 484001 Mobile +91 8585960963 Email ruhi@dermaq.in Invoice #: INV-117 Invoice Date: 01 Feb 2024 Due Date: 29 Jan 2024 Customer Details: Naman Place of Supply: 23-MADHYA PRADESH # Item Rate / Item Qty Taxable Value Tax Amount Amount 492.86 1 Kera M 5% Solution 1 BTL 492.86 59.14 (12%) 552.00 616.07 (-20%) 299.58 2 Arachitol Nano (60k) 4*5ml 3 BTL 898.73 107.85 (12%) 1,006.58 340.43 (-12%) 30.58 3 Neurobion Forte - 30 tablets 3 STRP 91.73 16.51 (18%) 108.24 34.75 (-12%) Taxable Amount ₹1,483.32 CGST 6.0% ₹83.50 SGST 6.0% ₹83.50 CGST 9.0% ₹8.26 SGST 9.0% ₹8.26 Round Off 0.18 Total ₹1,667.00 Total Discount ₹290.02 Total Items / Qty : 3 / 7.000 Total amount (in words): INR One Thousand, Six Hundred And Sixty-Seven Rupees Only. Amount Paid Pay using UPI: Bank Details: For UNCUE DERMACARE PRIVATE LIMITED Bank: Kotak Mahindra Bank Account #: 1146860541 IFSC Code: kkbk0000725 Branch: PUNE - CHINCHWAD Authorized Signatory UnCue Dermacare Pvt Ltd Powered By Swipe | Simple Invoicing, Billing and Payments | Visit getswipe.in Page 1 / 1 This is a computer generated document and requires no signature.\n",
            "TAX INVOICE ORIGINAL FOR RECIPIENT UNCUE DERMACARE PRIVATE LIMITED GSTIN 23AADCU2395N1ZY C/o KARUNA GUPTA KURELE, 1st Floor S.P Bungalow Ke Pichhe, Shoagpur Shahdol, Shahdol Shahdol, MADHYA PRADESH, 484001 Mobile +91 8585960963 Email ruhi@dermaq.in Invoice #: INV-150 Invoice Date: 22 Mar 2024 Due Date: 01 Apr 2024 Customer Details: Bhusan Naresh Place of Supply: 23-MADHYA PRADESH # Item Rate / Item Qty Taxable Value Tax Amount Amount Ahaglow Advanced Skin Rejuvenating 394.51 1 1 PAC 394.51 71.01 (18%) 465.52 Face Wash Gel - 100 gm 448.31 (-12%) Taxable Amount ₹394.51 CGST 9.0% ₹35.51 SGST 9.0% ₹35.51 Round Off 0.48 Total ₹466.00 Total Discount ₹63.48 Total Items / Qty : 1 / 1.000 Total amount (in words): INR Four Hundred And Sixty-Six Rupees Only. Amount Paid Pay using UPI: Bank Details: For UNCUE DERMACARE PRIVATE LIMITED Bank: Kotak Mahindra Bank Account #: 1146860541 IFSC Code: kkbk0000725 Branch: PUNE - CHINCHWAD Authorized Signatory UnCue Dermacare Pvt Ltd Powered By Swipe | Simple Invoicing, Billing and Payments | Visit getswipe.in Page 1 / 1 This is a computer generated document and requires no signature.\n",
            "TAX INVOICE ORIGINAL FOR RECIPIENT UNCUE DERMACARE PRIVATE LIMITED GSTIN 23AADCU2395N1ZY C/o KARUNA GUPTA KURELE, 1st Floor S.P Bungalow Ke Pichhe, Shoagpur Shahdol, Shahdol Shahdol, MADHYA PRADESH, 484001 Mobile +91 8585960963 Email ruhi@dermaq.in Invoice #: INV-147 Invoice Date: 29 Mar 2024 Due Date: 29 Mar 2024 Customer Details: Divya Suhane Ph: 6261616609 Place of Supply: 23-MADHYA PRADESH # Item Rate / Item Qty Taxable Value Tax Amount Amount 450.64 1 Solasafe sunscreen gel spf 50 1 450.64 81.11 (18%) 531.75 600.85 (-25%) 163.09 2 Trapic 500 TA - 10 3 STRP 489.28 24.46 (5%) 513.74 185.33 (-12%) 495.93 3 Depiwhite Advanced Cream - 15 ml 1 TUB 495.93 89.27 (18%) 585.20 563.56 (-12%) 410.17 4 Fixderma Shadow SPF 50+ Cream 1 TUB 410.17 73.83 (18%) 484.00 466.10 (-12%) 316.80 5 Sortet F 16 mg - 10 cap 6 STRP 1,900.80 0.00 (0%) 1,900.80 360.00 (-12%) Taxable Amount ₹3,746.82 CGST 2.5% ₹12.23 SGST 2.5% ₹12.23 CGST 9.0% ₹122.11 SGST 9.0% ₹122.11 Round Off -0.49 Total ₹4,015.00 Total Discount ₹652.31 Total Items / Qty : 5 / 12.000 Total amount (in words): INR Four Thousand And Fifteen Rupees Only. Amount Paid Pay using UPI: Bank Details: For UNCUE DERMACARE PRIVATE LIMITED Bank: Kotak Mahindra Bank Account #: 1146860541 IFSC Code: kkbk0000725 Branch: PUNE - CHINCHWAD Authorized Signatory UnCue Dermacare Pvt Ltd Powered By Swipe | Simple Invoicing, Billing and Payments | Visit getswipe.in Page 1 / 1 This is a computer generated document and requires no signature.\n",
            "TAX INVOICE ORIGINAL FOR RECIPIENT UNCUE DERMACARE PRIVATE LIMITED GSTIN 23AADCU2395N1ZY C/o KARUNA GUPTA KURELE, 1st Floor S.P Bungalow Ke Pichhe, Shoagpur Shahdol, Shahdol Shahdol, MADHYA PRADESH, 484001 Mobile +91 8585960963 Email ruhi@dermaq.in Invoice #: INV-148 Invoice Date: 30 Mar 2024 Due Date: 01 Apr 2024 Customer Details: harshit rathore Place of Supply: 23-MADHYA PRADESH # Item Rate / Item Qty Taxable Value Tax Amount Amount 78.31 1 Zincovit tablet 6 STRP 469.83 84.57 (18%) 554.40 88.98 (-12%) 303.29 2 Sevenseas Cap 2 BTL 606.57 72.79 (12%) 679.36 344.64 (-12%) Taxable Amount ₹1,076.40 CGST 6.0% ₹36.39 SGST 6.0% ₹36.39 CGST 9.0% ₹42.28 SGST 9.0% ₹42.28 Round Off 0.24 Total ₹1,234.00 Total Discount ₹168.24 Total Items / Qty : 2 / 8.000 Total amount (in words): INR One Thousand, Two Hundred And Thirty-Four Rupees Only. Amount Paid Pay using UPI: Bank Details: For UNCUE DERMACARE PRIVATE LIMITED Bank: Kotak Mahindra Bank Account #: 1146860541 IFSC Code: kkbk0000725 Branch: PUNE - CHINCHWAD Authorized Signatory UnCue Dermacare Pvt Ltd Powered By Swipe | Simple Invoicing, Billing and Payments | Visit getswipe.in Page 1 / 1 This is a computer generated document and requires no signature.\n",
            "TAX INVOICE ORIGINAL FOR RECIPIENT UNCUE DERMACARE PRIVATE LIMITED GSTIN 23AADCU2395N1ZY C/o KARUNA GUPTA KURELE, 1st Floor S.P Bungalow Ke Pichhe, Shoagpur Shahdol, Shahdol Shahdol, MADHYA PRADESH, 484001 Mobile +91 8585960963 Email ruhi@dermaq.in Invoice #: INV-149 Invoice Date: 22 Mar 2024 Due Date: 01 Apr 2024 Customer Details: Karishma Bande Ph: 8956804380 Place of Supply: 23-MADHYA PRADESH # Item Rate / Item Qty Taxable Value Tax Amount Amount 370.64 1 Excela Moisturiser - 50 gm 1 BTL 370.64 66.72 (18%) 437.36 421.19 (-12%) Taxable Amount ₹370.64 CGST 9.0% ₹33.36 SGST 9.0% ₹33.36 Round Off -0.36 Total ₹437.00 Total Discount ₹59.64 Total Items / Qty : 1 / 1.000 Total amount (in words): INR Four Hundred And Thirty-Seven Rupees Only. Amount Paid Pay using UPI: Bank Details: For UNCUE DERMACARE PRIVATE LIMITED Bank: Kotak Mahindra Bank Account #: 1146860541 IFSC Code: kkbk0000725 Branch: PUNE - CHINCHWAD Authorized Signatory UnCue Dermacare Pvt Ltd Powered By Swipe | Simple Invoicing, Billing and Payments | Visit getswipe.in Page 1 / 1 This is a computer generated document and requires no signature.\n"
          ]
        }
      ]
    },
    {
      "cell_type": "code",
      "source": [
        "invoices_df = pd.DataFrame(all_invoices_data)"
      ],
      "metadata": {
        "id": "-dBsYRloetlu"
      },
      "execution_count": null,
      "outputs": []
    },
    {
      "cell_type": "code",
      "source": [
        "invoices_df.head()"
      ],
      "metadata": {
        "colab": {
          "base_uri": "https://localhost:8080/",
          "height": 206
        },
        "id": "aj9hQjDtgMnz",
        "outputId": "ab77a7a8-16ea-4456-b9e7-fe49266a72b2"
      },
      "execution_count": null,
      "outputs": [
        {
          "output_type": "execute_result",
          "data": {
            "text/plain": [
              "  invoice_number          invoice_date                      due_date  \\\n",
              "0        INV-146  29 Mar 2024 Due Date  29 Mar 2024 Customer Details   \n",
              "1        INV-145  28 Mar 2024 Due Date  28 Mar 2024 Customer Details   \n",
              "2        INV-140  06 Mar 2024 Due Date  06 Mar 2024 Customer Details   \n",
              "3        INV-136  15 Feb 2024 Due Date  04 Mar 2024 Customer Details   \n",
              "4        INV-143  28 Mar 2024 Due Date  28 Mar 2024 Customer Details   \n",
              "\n",
              "                       customer_name taxable_amount cgst sgst total_amount  \\\n",
              "0  Abhikaran Jalonha Place of Supply       3,348.16   .0   .0     3,877.00   \n",
              "1     Indraja Mohite Place of Supply       1,917.86   .0   .0     2,141.00   \n",
              "2              Ankit Place of Supply         999.36   .0   .0     1,148.00   \n",
              "3                  Rishabh Ramola Ph         961.36   .0   .0     1,134.00   \n",
              "4           Prashant Place of Supply       6,563.98   .0   .0     7,612.00   \n",
              "\n",
              "  total_discount  \n",
              "0         674.48  \n",
              "1         520.20  \n",
              "2         286.99  \n",
              "3         283.60  \n",
              "4         880.00  "
            ],
            "text/html": [
              "\n",
              "  <div id=\"df-d2340421-66b8-4b81-926b-0908c4ba6ce3\" class=\"colab-df-container\">\n",
              "    <div>\n",
              "<style scoped>\n",
              "    .dataframe tbody tr th:only-of-type {\n",
              "        vertical-align: middle;\n",
              "    }\n",
              "\n",
              "    .dataframe tbody tr th {\n",
              "        vertical-align: top;\n",
              "    }\n",
              "\n",
              "    .dataframe thead th {\n",
              "        text-align: right;\n",
              "    }\n",
              "</style>\n",
              "<table border=\"1\" class=\"dataframe\">\n",
              "  <thead>\n",
              "    <tr style=\"text-align: right;\">\n",
              "      <th></th>\n",
              "      <th>invoice_number</th>\n",
              "      <th>invoice_date</th>\n",
              "      <th>due_date</th>\n",
              "      <th>customer_name</th>\n",
              "      <th>taxable_amount</th>\n",
              "      <th>cgst</th>\n",
              "      <th>sgst</th>\n",
              "      <th>total_amount</th>\n",
              "      <th>total_discount</th>\n",
              "    </tr>\n",
              "  </thead>\n",
              "  <tbody>\n",
              "    <tr>\n",
              "      <th>0</th>\n",
              "      <td>INV-146</td>\n",
              "      <td>29 Mar 2024 Due Date</td>\n",
              "      <td>29 Mar 2024 Customer Details</td>\n",
              "      <td>Abhikaran Jalonha Place of Supply</td>\n",
              "      <td>3,348.16</td>\n",
              "      <td>.0</td>\n",
              "      <td>.0</td>\n",
              "      <td>3,877.00</td>\n",
              "      <td>674.48</td>\n",
              "    </tr>\n",
              "    <tr>\n",
              "      <th>1</th>\n",
              "      <td>INV-145</td>\n",
              "      <td>28 Mar 2024 Due Date</td>\n",
              "      <td>28 Mar 2024 Customer Details</td>\n",
              "      <td>Indraja Mohite Place of Supply</td>\n",
              "      <td>1,917.86</td>\n",
              "      <td>.0</td>\n",
              "      <td>.0</td>\n",
              "      <td>2,141.00</td>\n",
              "      <td>520.20</td>\n",
              "    </tr>\n",
              "    <tr>\n",
              "      <th>2</th>\n",
              "      <td>INV-140</td>\n",
              "      <td>06 Mar 2024 Due Date</td>\n",
              "      <td>06 Mar 2024 Customer Details</td>\n",
              "      <td>Ankit Place of Supply</td>\n",
              "      <td>999.36</td>\n",
              "      <td>.0</td>\n",
              "      <td>.0</td>\n",
              "      <td>1,148.00</td>\n",
              "      <td>286.99</td>\n",
              "    </tr>\n",
              "    <tr>\n",
              "      <th>3</th>\n",
              "      <td>INV-136</td>\n",
              "      <td>15 Feb 2024 Due Date</td>\n",
              "      <td>04 Mar 2024 Customer Details</td>\n",
              "      <td>Rishabh Ramola Ph</td>\n",
              "      <td>961.36</td>\n",
              "      <td>.0</td>\n",
              "      <td>.0</td>\n",
              "      <td>1,134.00</td>\n",
              "      <td>283.60</td>\n",
              "    </tr>\n",
              "    <tr>\n",
              "      <th>4</th>\n",
              "      <td>INV-143</td>\n",
              "      <td>28 Mar 2024 Due Date</td>\n",
              "      <td>28 Mar 2024 Customer Details</td>\n",
              "      <td>Prashant Place of Supply</td>\n",
              "      <td>6,563.98</td>\n",
              "      <td>.0</td>\n",
              "      <td>.0</td>\n",
              "      <td>7,612.00</td>\n",
              "      <td>880.00</td>\n",
              "    </tr>\n",
              "  </tbody>\n",
              "</table>\n",
              "</div>\n",
              "    <div class=\"colab-df-buttons\">\n",
              "\n",
              "  <div class=\"colab-df-container\">\n",
              "    <button class=\"colab-df-convert\" onclick=\"convertToInteractive('df-d2340421-66b8-4b81-926b-0908c4ba6ce3')\"\n",
              "            title=\"Convert this dataframe to an interactive table.\"\n",
              "            style=\"display:none;\">\n",
              "\n",
              "  <svg xmlns=\"http://www.w3.org/2000/svg\" height=\"24px\" viewBox=\"0 -960 960 960\">\n",
              "    <path d=\"M120-120v-720h720v720H120Zm60-500h600v-160H180v160Zm220 220h160v-160H400v160Zm0 220h160v-160H400v160ZM180-400h160v-160H180v160Zm440 0h160v-160H620v160ZM180-180h160v-160H180v160Zm440 0h160v-160H620v160Z\"/>\n",
              "  </svg>\n",
              "    </button>\n",
              "\n",
              "  <style>\n",
              "    .colab-df-container {\n",
              "      display:flex;\n",
              "      gap: 12px;\n",
              "    }\n",
              "\n",
              "    .colab-df-convert {\n",
              "      background-color: #E8F0FE;\n",
              "      border: none;\n",
              "      border-radius: 50%;\n",
              "      cursor: pointer;\n",
              "      display: none;\n",
              "      fill: #1967D2;\n",
              "      height: 32px;\n",
              "      padding: 0 0 0 0;\n",
              "      width: 32px;\n",
              "    }\n",
              "\n",
              "    .colab-df-convert:hover {\n",
              "      background-color: #E2EBFA;\n",
              "      box-shadow: 0px 1px 2px rgba(60, 64, 67, 0.3), 0px 1px 3px 1px rgba(60, 64, 67, 0.15);\n",
              "      fill: #174EA6;\n",
              "    }\n",
              "\n",
              "    .colab-df-buttons div {\n",
              "      margin-bottom: 4px;\n",
              "    }\n",
              "\n",
              "    [theme=dark] .colab-df-convert {\n",
              "      background-color: #3B4455;\n",
              "      fill: #D2E3FC;\n",
              "    }\n",
              "\n",
              "    [theme=dark] .colab-df-convert:hover {\n",
              "      background-color: #434B5C;\n",
              "      box-shadow: 0px 1px 3px 1px rgba(0, 0, 0, 0.15);\n",
              "      filter: drop-shadow(0px 1px 2px rgba(0, 0, 0, 0.3));\n",
              "      fill: #FFFFFF;\n",
              "    }\n",
              "  </style>\n",
              "\n",
              "    <script>\n",
              "      const buttonEl =\n",
              "        document.querySelector('#df-d2340421-66b8-4b81-926b-0908c4ba6ce3 button.colab-df-convert');\n",
              "      buttonEl.style.display =\n",
              "        google.colab.kernel.accessAllowed ? 'block' : 'none';\n",
              "\n",
              "      async function convertToInteractive(key) {\n",
              "        const element = document.querySelector('#df-d2340421-66b8-4b81-926b-0908c4ba6ce3');\n",
              "        const dataTable =\n",
              "          await google.colab.kernel.invokeFunction('convertToInteractive',\n",
              "                                                    [key], {});\n",
              "        if (!dataTable) return;\n",
              "\n",
              "        const docLinkHtml = 'Like what you see? Visit the ' +\n",
              "          '<a target=\"_blank\" href=https://colab.research.google.com/notebooks/data_table.ipynb>data table notebook</a>'\n",
              "          + ' to learn more about interactive tables.';\n",
              "        element.innerHTML = '';\n",
              "        dataTable['output_type'] = 'display_data';\n",
              "        await google.colab.output.renderOutput(dataTable, element);\n",
              "        const docLink = document.createElement('div');\n",
              "        docLink.innerHTML = docLinkHtml;\n",
              "        element.appendChild(docLink);\n",
              "      }\n",
              "    </script>\n",
              "  </div>\n",
              "\n",
              "\n",
              "<div id=\"df-bbfe5c32-a76f-455f-9012-8e332d482d74\">\n",
              "  <button class=\"colab-df-quickchart\" onclick=\"quickchart('df-bbfe5c32-a76f-455f-9012-8e332d482d74')\"\n",
              "            title=\"Suggest charts\"\n",
              "            style=\"display:none;\">\n",
              "\n",
              "<svg xmlns=\"http://www.w3.org/2000/svg\" height=\"24px\"viewBox=\"0 0 24 24\"\n",
              "     width=\"24px\">\n",
              "    <g>\n",
              "        <path d=\"M19 3H5c-1.1 0-2 .9-2 2v14c0 1.1.9 2 2 2h14c1.1 0 2-.9 2-2V5c0-1.1-.9-2-2-2zM9 17H7v-7h2v7zm4 0h-2V7h2v10zm4 0h-2v-4h2v4z\"/>\n",
              "    </g>\n",
              "</svg>\n",
              "  </button>\n",
              "\n",
              "<style>\n",
              "  .colab-df-quickchart {\n",
              "      --bg-color: #E8F0FE;\n",
              "      --fill-color: #1967D2;\n",
              "      --hover-bg-color: #E2EBFA;\n",
              "      --hover-fill-color: #174EA6;\n",
              "      --disabled-fill-color: #AAA;\n",
              "      --disabled-bg-color: #DDD;\n",
              "  }\n",
              "\n",
              "  [theme=dark] .colab-df-quickchart {\n",
              "      --bg-color: #3B4455;\n",
              "      --fill-color: #D2E3FC;\n",
              "      --hover-bg-color: #434B5C;\n",
              "      --hover-fill-color: #FFFFFF;\n",
              "      --disabled-bg-color: #3B4455;\n",
              "      --disabled-fill-color: #666;\n",
              "  }\n",
              "\n",
              "  .colab-df-quickchart {\n",
              "    background-color: var(--bg-color);\n",
              "    border: none;\n",
              "    border-radius: 50%;\n",
              "    cursor: pointer;\n",
              "    display: none;\n",
              "    fill: var(--fill-color);\n",
              "    height: 32px;\n",
              "    padding: 0;\n",
              "    width: 32px;\n",
              "  }\n",
              "\n",
              "  .colab-df-quickchart:hover {\n",
              "    background-color: var(--hover-bg-color);\n",
              "    box-shadow: 0 1px 2px rgba(60, 64, 67, 0.3), 0 1px 3px 1px rgba(60, 64, 67, 0.15);\n",
              "    fill: var(--button-hover-fill-color);\n",
              "  }\n",
              "\n",
              "  .colab-df-quickchart-complete:disabled,\n",
              "  .colab-df-quickchart-complete:disabled:hover {\n",
              "    background-color: var(--disabled-bg-color);\n",
              "    fill: var(--disabled-fill-color);\n",
              "    box-shadow: none;\n",
              "  }\n",
              "\n",
              "  .colab-df-spinner {\n",
              "    border: 2px solid var(--fill-color);\n",
              "    border-color: transparent;\n",
              "    border-bottom-color: var(--fill-color);\n",
              "    animation:\n",
              "      spin 1s steps(1) infinite;\n",
              "  }\n",
              "\n",
              "  @keyframes spin {\n",
              "    0% {\n",
              "      border-color: transparent;\n",
              "      border-bottom-color: var(--fill-color);\n",
              "      border-left-color: var(--fill-color);\n",
              "    }\n",
              "    20% {\n",
              "      border-color: transparent;\n",
              "      border-left-color: var(--fill-color);\n",
              "      border-top-color: var(--fill-color);\n",
              "    }\n",
              "    30% {\n",
              "      border-color: transparent;\n",
              "      border-left-color: var(--fill-color);\n",
              "      border-top-color: var(--fill-color);\n",
              "      border-right-color: var(--fill-color);\n",
              "    }\n",
              "    40% {\n",
              "      border-color: transparent;\n",
              "      border-right-color: var(--fill-color);\n",
              "      border-top-color: var(--fill-color);\n",
              "    }\n",
              "    60% {\n",
              "      border-color: transparent;\n",
              "      border-right-color: var(--fill-color);\n",
              "    }\n",
              "    80% {\n",
              "      border-color: transparent;\n",
              "      border-right-color: var(--fill-color);\n",
              "      border-bottom-color: var(--fill-color);\n",
              "    }\n",
              "    90% {\n",
              "      border-color: transparent;\n",
              "      border-bottom-color: var(--fill-color);\n",
              "    }\n",
              "  }\n",
              "</style>\n",
              "\n",
              "  <script>\n",
              "    async function quickchart(key) {\n",
              "      const quickchartButtonEl =\n",
              "        document.querySelector('#' + key + ' button');\n",
              "      quickchartButtonEl.disabled = true;  // To prevent multiple clicks.\n",
              "      quickchartButtonEl.classList.add('colab-df-spinner');\n",
              "      try {\n",
              "        const charts = await google.colab.kernel.invokeFunction(\n",
              "            'suggestCharts', [key], {});\n",
              "      } catch (error) {\n",
              "        console.error('Error during call to suggestCharts:', error);\n",
              "      }\n",
              "      quickchartButtonEl.classList.remove('colab-df-spinner');\n",
              "      quickchartButtonEl.classList.add('colab-df-quickchart-complete');\n",
              "    }\n",
              "    (() => {\n",
              "      let quickchartButtonEl =\n",
              "        document.querySelector('#df-bbfe5c32-a76f-455f-9012-8e332d482d74 button');\n",
              "      quickchartButtonEl.style.display =\n",
              "        google.colab.kernel.accessAllowed ? 'block' : 'none';\n",
              "    })();\n",
              "  </script>\n",
              "</div>\n",
              "\n",
              "    </div>\n",
              "  </div>\n"
            ],
            "application/vnd.google.colaboratory.intrinsic+json": {
              "type": "dataframe",
              "variable_name": "invoices_df",
              "summary": "{\n  \"name\": \"invoices_df\",\n  \"rows\": 24,\n  \"fields\": [\n    {\n      \"column\": \"invoice_number\",\n      \"properties\": {\n        \"dtype\": \"string\",\n        \"num_unique_values\": 24,\n        \"samples\": [\n          \"INV-138\",\n          \"INV-134\",\n          \"INV-146\"\n        ],\n        \"semantic_type\": \"\",\n        \"description\": \"\"\n      }\n    },\n    {\n      \"column\": \"invoice_date\",\n      \"properties\": {\n        \"dtype\": \"string\",\n        \"num_unique_values\": 14,\n        \"samples\": [\n          \"23 Feb 2024 Due Date\",\n          \"01 Feb 2024 Due Date\",\n          \"29 Mar 2024 Due Date\"\n        ],\n        \"semantic_type\": \"\",\n        \"description\": \"\"\n      }\n    },\n    {\n      \"column\": \"due_date\",\n      \"properties\": {\n        \"dtype\": \"string\",\n        \"num_unique_values\": 12,\n        \"samples\": [\n          \"30 Jan 2024 Customer Details\",\n          \"23 Feb 2024 Customer Details\",\n          \"29 Mar 2024 Customer Details\"\n        ],\n        \"semantic_type\": \"\",\n        \"description\": \"\"\n      }\n    },\n    {\n      \"column\": \"customer_name\",\n      \"properties\": {\n        \"dtype\": \"string\",\n        \"num_unique_values\": 21,\n        \"samples\": [\n          \"Abhikaran Jalonha Place of Supply\",\n          \"Naman Place of Supply\",\n          \"Divya Suhane Ph\"\n        ],\n        \"semantic_type\": \"\",\n        \"description\": \"\"\n      }\n    },\n    {\n      \"column\": \"taxable_amount\",\n      \"properties\": {\n        \"dtype\": \"string\",\n        \"num_unique_values\": 24,\n        \"samples\": [\n          \"1,275.34\",\n          \"723.77\",\n          \"3,348.16\"\n        ],\n        \"semantic_type\": \"\",\n        \"description\": \"\"\n      }\n    },\n    {\n      \"column\": \"cgst\",\n      \"properties\": {\n        \"dtype\": \"category\",\n        \"num_unique_values\": 2,\n        \"samples\": [\n          \".5\",\n          \".0\"\n        ],\n        \"semantic_type\": \"\",\n        \"description\": \"\"\n      }\n    },\n    {\n      \"column\": \"sgst\",\n      \"properties\": {\n        \"dtype\": \"category\",\n        \"num_unique_values\": 2,\n        \"samples\": [\n          \".5\",\n          \".0\"\n        ],\n        \"semantic_type\": \"\",\n        \"description\": \"\"\n      }\n    },\n    {\n      \"column\": \"total_amount\",\n      \"properties\": {\n        \"dtype\": \"string\",\n        \"num_unique_values\": 23,\n        \"samples\": [\n          \"854.00\",\n          \"793.00\"\n        ],\n        \"semantic_type\": \"\",\n        \"description\": \"\"\n      }\n    },\n    {\n      \"column\": \"total_discount\",\n      \"properties\": {\n        \"dtype\": \"string\",\n        \"num_unique_values\": 22,\n        \"samples\": [\n          \"674.48\",\n          \"550.00\"\n        ],\n        \"semantic_type\": \"\",\n        \"description\": \"\"\n      }\n    }\n  ]\n}"
            }
          },
          "metadata": {},
          "execution_count": 48
        }
      ]
    },
    {
      "cell_type": "code",
      "source": [
        "invoices_df.to_csv('invoices_data.csv', index=False)"
      ],
      "metadata": {
        "id": "cEhWx2cxevT6"
      },
      "execution_count": null,
      "outputs": []
    }
  ]
}